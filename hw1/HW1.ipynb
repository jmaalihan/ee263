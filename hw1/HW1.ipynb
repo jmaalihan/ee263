{
 "cells": [
  {
   "cell_type": "code",
   "execution_count": 2,
   "id": "46e6ca43",
   "metadata": {},
   "outputs": [],
   "source": [
    "import numpy as np\n",
    "import matplotlib as plt"
   ]
  },
  {
   "cell_type": "code",
   "execution_count": 4,
   "id": "ae788961",
   "metadata": {},
   "outputs": [],
   "source": [
    "#Question 2.1b\n",
    "gain = np.matrix([[1, .2, .1], [.1, 2, .1], [.3, .1, 3]]) \n",
    "gamma = 3 #threshold value\n",
    "alpha = 1.2 #safety margin\n",
    "sigma = .01 #self-noise power\n"
   ]
  },
  {
   "cell_type": "code",
   "execution_count": 5,
   "id": "988dce4a",
   "metadata": {},
   "outputs": [
    {
     "name": "stdout",
     "output_type": "stream",
     "text": [
      "[[1.  0.2 0.1]\n",
      " [0.1 2.  0.1]\n",
      " [0.3 0.1 3. ]]\n"
     ]
    }
   ],
   "source": []
  },
  {
   "cell_type": "markdown",
   "id": "845e82aa",
   "metadata": {},
   "source": [
    "Question 2.3\n",
    "MA: diagonal matrix with coefficients as entries\n",
    "AR\n",
    "ARMA\n"
   ]
  },
  {
   "cell_type": "markdown",
   "id": "5c931a20",
   "metadata": {},
   "source": [
    "2.4\n",
    "A linear function can be written as a linear combination of the basis vectors of its domain onto the co-domain. The $m\\times n$ matrix corresponding to this function is unique. The rows of this matrix correspond to the coefficients of the basis vectors for that entry. A column corresponds to the coefficients of a single basis vector in the domain."
   ]
  },
  {
   "cell_type": "markdown",
   "id": "ab070323",
   "metadata": {},
   "source": [
    "2.6 \n",
    "The derivative operator on a polynomial vector is an upward shift matrix (if first entry is lowest order term), ascending from 1 to n-1 (corresponding to multiplication by powers).\n",
    "$$\n",
    "\\begin{bmatrix}\n",
    "0&1&0&0&0\\\\\n",
    "0&0&2&0&0\\\\\n",
    "0&0&0&3&0\\\\\n",
    "0&0&0&0&4\\\\\n",
    "0&0&0&0&0\\\\\n",
    "\\end{bmatrix}\n",
    "$$\n"
   ]
  },
  {
   "cell_type": "markdown",
   "id": "5ff53368",
   "metadata": {},
   "source": [
    "2.9\n",
    "$$\n",
    "(a)\\quad \n",
    "A =\\begin{bmatrix}\n",
    "2&0\\\\\n",
    ".5&1\\\\\n",
    "\\end{bmatrix}\n",
    "\\quad\n",
    "(b)\\quad\n",
    "B = A^4 = \\begin{bmatrix}\n",
    "16&0\\\\\n",
    "7.5&1\\\\\n",
    "\\end{bmatrix}^{4}\n",
    "$$\n",
    "\n",
    "The second system is a cascade of linear systems which corresponds to the product of matrix operators."
   ]
  },
  {
   "cell_type": "markdown",
   "id": "629bedfe",
   "metadata": {},
   "source": [
    "2.12\n",
    "Given an adjacency matrix A whose entries are 1 if there is an edge from i to j, 0 otherwise: $B = A^k$ is the matrix whose entries $B_{ij}$ count the number of k-length paths from i to j."
   ]
  },
  {
   "cell_type": "code",
   "execution_count": null,
   "id": "25bb2b3f",
   "metadata": {},
   "outputs": [],
   "source": []
  }
 ],
 "metadata": {
  "kernelspec": {
   "display_name": "Python 3",
   "language": "python",
   "name": "python3"
  },
  "language_info": {
   "codemirror_mode": {
    "name": "ipython",
    "version": 3
   },
   "file_extension": ".py",
   "mimetype": "text/x-python",
   "name": "python",
   "nbconvert_exporter": "python",
   "pygments_lexer": "ipython3",
   "version": "3.9.5"
  }
 },
 "nbformat": 4,
 "nbformat_minor": 5
}
