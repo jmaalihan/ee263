{
 "cells": [
  {
   "cell_type": "code",
   "execution_count": 15,
   "id": "46e6ca43",
   "metadata": {},
   "outputs": [],
   "source": [
    "import numpy as np\n",
    "import matplotlib as plt"
   ]
  },
  {
   "cell_type": "code",
   "execution_count": 13,
   "id": "ae788961",
   "metadata": {},
   "outputs": [
    {
     "data": {
      "text/plain": [
       "matrix([[1. , 0.2, 0.1],\n",
       "        [0.1, 2. , 0.1],\n",
       "        [0.3, 0.1, 3. ]])"
      ]
     },
     "execution_count": 13,
     "metadata": {},
     "output_type": "execute_result"
    }
   ],
   "source": [
    "#Question 2.1b\n",
    "gain = np.matrix([[1, .2, .1], [.1, 2, .1], [.3, .1, 3]]) \n",
    "gamma = 3 #threshold value\n",
    "alpha = 1.2 #safety margin\n",
    "sigma = .01 #self-noise power\n"
   ]
  },
  {
   "cell_type": "code",
   "execution_count": null,
   "id": "988dce4a",
   "metadata": {},
   "outputs": [],
   "source": []
  },
  {
   "cell_type": "code",
   "execution_count": null,
   "id": "0cc3f056",
   "metadata": {},
   "outputs": [],
   "source": []
  }
 ],
 "metadata": {
  "kernelspec": {
   "display_name": "Python 3",
   "language": "python",
   "name": "python3"
  },
  "language_info": {
   "codemirror_mode": {
    "name": "ipython",
    "version": 3
   },
   "file_extension": ".py",
   "mimetype": "text/x-python",
   "name": "python",
   "nbconvert_exporter": "python",
   "pygments_lexer": "ipython3",
   "version": "3.9.5"
  }
 },
 "nbformat": 4,
 "nbformat_minor": 5
}
